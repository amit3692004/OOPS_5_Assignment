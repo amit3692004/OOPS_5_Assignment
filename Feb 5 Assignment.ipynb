{
 "cells": [
  {
   "cell_type": "code",
   "execution_count": 16,
   "id": "a24bf4f0-16ee-4c6e-a93a-688fb2685e66",
   "metadata": {},
   "outputs": [],
   "source": [
    "# Q1. Explain Class and Object with respect to Object-Oriented Programming. Give a suitable example.\n",
    "#Ans :Class is a blue print for creating Objects since it defines the properties of type of object like a=1 have int type, while object is a instance type with its own behaviour.\n",
    "#Like we can take car as class in OOPS as all cars have model year color,chasis number as properties which define behaviour of all cars that each car can perform starting ,stopping and running.\n",
    "class pwskills :\n",
    "    \n",
    "    def __init__(self ,phone_number , email_id , student_id ):\n",
    "        self.phone_number = phone_number\n",
    "        self.email_id = email_id\n",
    "        self.student_id = student_id\n",
    "    \n",
    "    def return_student_deetials(self) : \n",
    "        return self.student_id ,self.phone_number ,self.email_id"
   ]
  },
  {
   "cell_type": "code",
   "execution_count": 17,
   "id": "3b83ed49-a30a-41fa-bf66-9971795c9f85",
   "metadata": {},
   "outputs": [],
   "source": [
    "# Here Amit is Object instance of class type pwskills.Also its a way to use code in reusable form.\n",
    "Amit = pwskills(99999999, \"amit3692004@gmail.com\" , 369)"
   ]
  },
  {
   "cell_type": "code",
   "execution_count": 18,
   "id": "a932c8d5-5837-46d7-bf77-b40f192a655a",
   "metadata": {},
   "outputs": [
    {
     "data": {
      "text/plain": [
       "99999999"
      ]
     },
     "execution_count": 18,
     "metadata": {},
     "output_type": "execute_result"
    }
   ],
   "source": [
    "Amit.phone_number"
   ]
  },
  {
   "cell_type": "code",
   "execution_count": null,
   "id": "7337a659-68a5-429f-9768-932a38eb84db",
   "metadata": {},
   "outputs": [],
   "source": [
    "# Q2. Name the four pillars of OOPs.\n",
    "# Inheritence,Polymorphism,Abstraction and Encapsulation."
   ]
  },
  {
   "cell_type": "code",
   "execution_count": null,
   "id": "3502a0ab-31a2-4dc1-8d90-8ef38368f4f7",
   "metadata": {},
   "outputs": [],
   "source": [
    "# Q3. Explain why the __init__() function is used. Give a suitable example.\n",
    "# Here __init__(self ,phone_number , email_id , student_id ) is used for code initialisation & as constructer to link properties \n",
    "#as phone_number , email_id , student_id to class pwskills.\n",
    "class pwskills :\n",
    "    \n",
    "    def __init__(self ,phone_number , email_id , student_id ):\n",
    "        self.phone_number = phone_number\n",
    "        self.email_id = email_id\n",
    "        self.student_id = student_id\n",
    "    \n",
    "    def return_student_deetials(self) : \n",
    "        return self.student_id ,self.phone_number ,self.email_id\n",
    "    "
   ]
  },
  {
   "cell_type": "code",
   "execution_count": null,
   "id": "0076d638-46e2-4be7-b47e-ef55b7135f59",
   "metadata": {},
   "outputs": [],
   "source": [
    "# Q4. Why self is used in OOPs?\n",
    "#Ans\n",
    "# It's a special keyword that is used to refer to the current instance of a class which refer to the memory location of the object.\n",
    "#Its used to access instance variable and its method and secondly to pass instance as an argument.\n"
   ]
  },
  {
   "cell_type": "code",
   "execution_count": 19,
   "id": "5f978f06-521e-4cf1-8576-0fd14ab50a5c",
   "metadata": {},
   "outputs": [
    {
     "name": "stdout",
     "output_type": "stream",
     "text": [
      "Function of parent class.\n",
      "Function of child class.\n"
     ]
    }
   ],
   "source": [
    "# Q5. What is inheritance? Give an example for each type of inheritance.\n",
    "# It is one of the pillar of OOPS concept that allow a new class (child) generation from existing parent/superclass,where new child class inherit its \n",
    "# properties and behavior from parent class.\n",
    "#It is having four types:\n",
    "  # Single inheritance : a subclass inherits properties and behaviors from a single parent class\n",
    "    \n",
    "class Parent:\n",
    "    def f1(self):\n",
    "    print(\"Function of parent class.\")\n",
    "\n",
    "class Child(Parent):\n",
    "    def f2(self):\n",
    "    print(\"Function of child class.\")\n",
    "\n",
    "object1 = Child()\n",
    "object1.f1()\n",
    "object1.f2()\n"
   ]
  },
  {
   "cell_type": "code",
   "execution_count": 24,
   "id": "b4592795-0f06-4cf5-9af7-27af72c5b0c8",
   "metadata": {},
   "outputs": [
    {
     "name": "stdout",
     "output_type": "stream",
     "text": [
      "Function of parent_1 class.\n",
      "Function of parent_2 class.\n",
      "function of parent_3 class.\n",
      "Function of child class.\n"
     ]
    }
   ],
   "source": [
    "#Multiple Inheritance: In this a subclass inherits properties and behaviors from multiple parent classes.\n",
    "class Parent_1:\n",
    "    def f1(self):\n",
    "        print(\"Function of parent_1 class.\")\n",
    "\n",
    "class Parent_2:\n",
    "    def f2(self):\n",
    "        print(\"Function of parent_2 class.\")\n",
    "\n",
    "class Parent_3:\n",
    "    def f3(self):\n",
    "        print(\"function of parent_3 class.\")\n",
    "\n",
    "class Child(Parent_1, Parent_2, Parent_3):\n",
    "    def f4(self):\n",
    "        print(\"Function of child class.\")\n",
    "\n",
    "object_1 = Child()\n",
    "object_1.f1()\n",
    "object_1.f2()\n",
    "object_1.f3()\n",
    "object_1.f4()"
   ]
  },
  {
   "cell_type": "code",
   "execution_count": 26,
   "id": "c8f1a042-894c-47e0-ae2c-09fbe8bf5617",
   "metadata": {},
   "outputs": [
    {
     "name": "stdout",
     "output_type": "stream",
     "text": [
      "I am eating.\n",
      "Woof\n",
      "SZzzzzz...\n"
     ]
    }
   ],
   "source": [
    "# Multi-level Inheritance: In multi-level inheritance, a subclass inherits properties and behaviors from a parent class,\n",
    "# which in turn inherits properties and behaviors from its own parent class, and so on\n",
    "class Animal:\n",
    "    def eat(self):\n",
    "        print(\"I am eating.\")\n",
    "\n",
    "class Dog(Animal):\n",
    "    def bark(self):\n",
    "        print(\"Woof\")\n",
    "\n",
    "class Bulldog(Dog):\n",
    "    def snore(self):\n",
    "        print(\"SZzzzzz...\")\n",
    "\n",
    "my_dog = Bulldog()\n",
    "my_dog.eat() \n",
    "my_dog.bark() \n",
    "my_dog.snore() \n",
    "\n"
   ]
  },
  {
   "cell_type": "code",
   "execution_count": 28,
   "id": "e48c6e55-8f92-49e6-84e2-490876ae7a00",
   "metadata": {},
   "outputs": [],
   "source": [
    "#Hierarchical Inheritance: In hierarchical inheritance, multiple child classes inherit properties and behaviors from a single parent class.\n",
    "\n",
    "class Vehicle:\n",
    "    def drive(self):\n",
    "        print(\"Driving a vehicle.\")\n",
    "\n",
    "class Car(Vehicle):\n",
    "    def honk(self):\n",
    "        print(\"Honk honk!\")\n",
    "\n",
    "class Truck(Vehicle):\n",
    "    def load(self):\n",
    "        print(\"Loading cargo.\")\n",
    "\n",
    "\n"
   ]
  },
  {
   "cell_type": "code",
   "execution_count": 29,
   "id": "cb756fa0-9614-4d8a-b91a-00a572085c38",
   "metadata": {},
   "outputs": [
    {
     "name": "stdout",
     "output_type": "stream",
     "text": [
      "Driving a vehicle.\n",
      "Honk honk!\n"
     ]
    }
   ],
   "source": [
    "my_car = Car()\n",
    "my_car.drive() \n",
    "my_car.honk() \n",
    "\n"
   ]
  },
  {
   "cell_type": "code",
   "execution_count": 30,
   "id": "37f37c5f-fd81-478d-b68f-3dd7c672d0c8",
   "metadata": {},
   "outputs": [
    {
     "name": "stdout",
     "output_type": "stream",
     "text": [
      "Driving a vehicle.\n",
      "Loading cargo.\n"
     ]
    }
   ],
   "source": [
    "my_truck = Truck()\n",
    "my_truck.drive() \n",
    "my_truck.load() "
   ]
  },
  {
   "cell_type": "code",
   "execution_count": null,
   "id": "8c1bec1f-6246-401a-8207-6565054699da",
   "metadata": {},
   "outputs": [],
   "source": []
  }
 ],
 "metadata": {
  "kernelspec": {
   "display_name": "Python 3 (ipykernel)",
   "language": "python",
   "name": "python3"
  },
  "language_info": {
   "codemirror_mode": {
    "name": "ipython",
    "version": 3
   },
   "file_extension": ".py",
   "mimetype": "text/x-python",
   "name": "python",
   "nbconvert_exporter": "python",
   "pygments_lexer": "ipython3",
   "version": "3.10.8"
  }
 },
 "nbformat": 4,
 "nbformat_minor": 5
}
